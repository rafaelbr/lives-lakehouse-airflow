{
 "cells": [
  {
   "cell_type": "code",
   "execution_count": 1,
   "id": "initial_id",
   "metadata": {
    "collapsed": true,
    "ExecuteTime": {
     "end_time": "2023-09-13T17:43:25.739626Z",
     "start_time": "2023-09-13T17:43:23.998489Z"
    }
   },
   "outputs": [],
   "source": [
    "import pandas as pd"
   ]
  },
  {
   "cell_type": "code",
   "execution_count": 5,
   "outputs": [],
   "source": [
    "df = pd.read_excel('data/RELATORIO_DTB_BRASIL_DISTRITO.xlsx')"
   ],
   "metadata": {
    "collapsed": false,
    "ExecuteTime": {
     "end_time": "2023-09-13T17:45:24.017261Z",
     "start_time": "2023-09-13T17:45:22.727829Z"
    }
   },
   "id": "c51d6f6463ea0e65"
  },
  {
   "cell_type": "code",
   "execution_count": 6,
   "outputs": [
    {
     "data": {
      "text/plain": "   UF   Nome_UF  Região Geográfica Intermediária  \\\n0  11  Rondônia                             1102   \n1  11  Rondônia                             1102   \n2  11  Rondônia                             1102   \n3  11  Rondônia                             1102   \n4  11  Rondônia                             1102   \n\n  Nome Região Geográfica Intermediária  Região Geográfica Imediata  \\\n0                            Ji-Paraná                      110005   \n1                            Ji-Paraná                      110005   \n2                            Ji-Paraná                      110005   \n3                            Ji-Paraná                      110005   \n4                            Ji-Paraná                      110005   \n\n  Nome Região Geográfica Imediata  Mesorregião Geográfica   Nome_Mesorregião  \\\n0                          Cacoal                       2  Leste Rondoniense   \n1                          Cacoal                       2  Leste Rondoniense   \n2                          Cacoal                       2  Leste Rondoniense   \n3                          Cacoal                       2  Leste Rondoniense   \n4                          Cacoal                       2  Leste Rondoniense   \n\n   Microrregião Geográfica Nome_Microrregião  Município  \\\n0                        6            Cacoal         15   \n1                        6            Cacoal         15   \n2                        6            Cacoal         15   \n3                        6            Cacoal         15   \n4                        6            Cacoal         15   \n\n   Código Município Completo         Nome_Município  Distrito  \\\n0                    1100015  Alta Floresta D'Oeste         5   \n1                    1100015  Alta Floresta D'Oeste        15   \n2                    1100015  Alta Floresta D'Oeste        20   \n3                    1100015  Alta Floresta D'Oeste        25   \n4                    1100015  Alta Floresta D'Oeste        30   \n\n   Código de Distrito Completo              Nome_Distrito  \n0                    110001505      Alta Floresta D'Oeste  \n1                    110001515         Filadélfia d'Oeste  \n2                    110001520                Izidolândia  \n3                    110001525         Nova Gease d'Oeste  \n4                    110001530  Rolim de Moura do Guaporé  ",
      "text/html": "<div>\n<style scoped>\n    .dataframe tbody tr th:only-of-type {\n        vertical-align: middle;\n    }\n\n    .dataframe tbody tr th {\n        vertical-align: top;\n    }\n\n    .dataframe thead th {\n        text-align: right;\n    }\n</style>\n<table border=\"1\" class=\"dataframe\">\n  <thead>\n    <tr style=\"text-align: right;\">\n      <th></th>\n      <th>UF</th>\n      <th>Nome_UF</th>\n      <th>Região Geográfica Intermediária</th>\n      <th>Nome Região Geográfica Intermediária</th>\n      <th>Região Geográfica Imediata</th>\n      <th>Nome Região Geográfica Imediata</th>\n      <th>Mesorregião Geográfica</th>\n      <th>Nome_Mesorregião</th>\n      <th>Microrregião Geográfica</th>\n      <th>Nome_Microrregião</th>\n      <th>Município</th>\n      <th>Código Município Completo</th>\n      <th>Nome_Município</th>\n      <th>Distrito</th>\n      <th>Código de Distrito Completo</th>\n      <th>Nome_Distrito</th>\n    </tr>\n  </thead>\n  <tbody>\n    <tr>\n      <th>0</th>\n      <td>11</td>\n      <td>Rondônia</td>\n      <td>1102</td>\n      <td>Ji-Paraná</td>\n      <td>110005</td>\n      <td>Cacoal</td>\n      <td>2</td>\n      <td>Leste Rondoniense</td>\n      <td>6</td>\n      <td>Cacoal</td>\n      <td>15</td>\n      <td>1100015</td>\n      <td>Alta Floresta D'Oeste</td>\n      <td>5</td>\n      <td>110001505</td>\n      <td>Alta Floresta D'Oeste</td>\n    </tr>\n    <tr>\n      <th>1</th>\n      <td>11</td>\n      <td>Rondônia</td>\n      <td>1102</td>\n      <td>Ji-Paraná</td>\n      <td>110005</td>\n      <td>Cacoal</td>\n      <td>2</td>\n      <td>Leste Rondoniense</td>\n      <td>6</td>\n      <td>Cacoal</td>\n      <td>15</td>\n      <td>1100015</td>\n      <td>Alta Floresta D'Oeste</td>\n      <td>15</td>\n      <td>110001515</td>\n      <td>Filadélfia d'Oeste</td>\n    </tr>\n    <tr>\n      <th>2</th>\n      <td>11</td>\n      <td>Rondônia</td>\n      <td>1102</td>\n      <td>Ji-Paraná</td>\n      <td>110005</td>\n      <td>Cacoal</td>\n      <td>2</td>\n      <td>Leste Rondoniense</td>\n      <td>6</td>\n      <td>Cacoal</td>\n      <td>15</td>\n      <td>1100015</td>\n      <td>Alta Floresta D'Oeste</td>\n      <td>20</td>\n      <td>110001520</td>\n      <td>Izidolândia</td>\n    </tr>\n    <tr>\n      <th>3</th>\n      <td>11</td>\n      <td>Rondônia</td>\n      <td>1102</td>\n      <td>Ji-Paraná</td>\n      <td>110005</td>\n      <td>Cacoal</td>\n      <td>2</td>\n      <td>Leste Rondoniense</td>\n      <td>6</td>\n      <td>Cacoal</td>\n      <td>15</td>\n      <td>1100015</td>\n      <td>Alta Floresta D'Oeste</td>\n      <td>25</td>\n      <td>110001525</td>\n      <td>Nova Gease d'Oeste</td>\n    </tr>\n    <tr>\n      <th>4</th>\n      <td>11</td>\n      <td>Rondônia</td>\n      <td>1102</td>\n      <td>Ji-Paraná</td>\n      <td>110005</td>\n      <td>Cacoal</td>\n      <td>2</td>\n      <td>Leste Rondoniense</td>\n      <td>6</td>\n      <td>Cacoal</td>\n      <td>15</td>\n      <td>1100015</td>\n      <td>Alta Floresta D'Oeste</td>\n      <td>30</td>\n      <td>110001530</td>\n      <td>Rolim de Moura do Guaporé</td>\n    </tr>\n  </tbody>\n</table>\n</div>"
     },
     "execution_count": 6,
     "metadata": {},
     "output_type": "execute_result"
    }
   ],
   "source": [
    "df.head()"
   ],
   "metadata": {
    "collapsed": false,
    "ExecuteTime": {
     "end_time": "2023-09-13T17:45:24.716510Z",
     "start_time": "2023-09-13T17:45:24.711891Z"
    }
   },
   "id": "bab369e5fb807aa7"
  },
  {
   "cell_type": "code",
   "execution_count": 8,
   "outputs": [],
   "source": [
    "df = df[['Código Município Completo', 'Nome_Município']]"
   ],
   "metadata": {
    "collapsed": false,
    "ExecuteTime": {
     "end_time": "2023-09-13T17:46:27.317922Z",
     "start_time": "2023-09-13T17:46:27.308670Z"
    }
   },
   "id": "dcd848d8976bc65b"
  },
  {
   "cell_type": "code",
   "execution_count": 10,
   "outputs": [],
   "source": [
    "df.drop_duplicates(inplace=True)"
   ],
   "metadata": {
    "collapsed": false,
    "ExecuteTime": {
     "end_time": "2023-09-13T17:47:36.570870Z",
     "start_time": "2023-09-13T17:47:36.559272Z"
    }
   },
   "id": "32886e7634a9d488"
  },
  {
   "cell_type": "code",
   "execution_count": 12,
   "outputs": [
    {
     "name": "stdout",
     "output_type": "stream",
     "text": [
      "<class 'pandas.core.frame.DataFrame'>\n",
      "Index: 5570 entries, 0 to 10669\n",
      "Data columns (total 2 columns):\n",
      " #   Column                     Non-Null Count  Dtype \n",
      "---  ------                     --------------  ----- \n",
      " 0   Código Município Completo  5570 non-null   int64 \n",
      " 1   Nome_Município             5570 non-null   object\n",
      "dtypes: int64(1), object(1)\n",
      "memory usage: 130.5+ KB\n"
     ]
    }
   ],
   "source": [
    "df.info()"
   ],
   "metadata": {
    "collapsed": false,
    "ExecuteTime": {
     "end_time": "2023-09-13T17:47:50.318150Z",
     "start_time": "2023-09-13T17:47:50.312410Z"
    }
   },
   "id": "11daeb6f1d384820"
  },
  {
   "cell_type": "code",
   "execution_count": 13,
   "outputs": [],
   "source": [
    "df.to_csv('/Volumes/GeekFoxLab/DTB_2022/DTB_2022_MUNICIPIOS.csv', index=False)"
   ],
   "metadata": {
    "collapsed": false,
    "ExecuteTime": {
     "end_time": "2023-09-13T17:48:12.808595Z",
     "start_time": "2023-09-13T17:48:12.793684Z"
    }
   },
   "id": "bbefaea3f5b22e64"
  },
  {
   "cell_type": "code",
   "execution_count": null,
   "outputs": [],
   "source": [],
   "metadata": {
    "collapsed": false
   },
   "id": "5fb64f638acfee09"
  }
 ],
 "metadata": {
  "kernelspec": {
   "display_name": "Python 3",
   "language": "python",
   "name": "python3"
  },
  "language_info": {
   "codemirror_mode": {
    "name": "ipython",
    "version": 2
   },
   "file_extension": ".py",
   "mimetype": "text/x-python",
   "name": "python",
   "nbconvert_exporter": "python",
   "pygments_lexer": "ipython2",
   "version": "2.7.6"
  }
 },
 "nbformat": 4,
 "nbformat_minor": 5
}
